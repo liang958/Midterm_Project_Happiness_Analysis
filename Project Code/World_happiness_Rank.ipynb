{
 "cells": [
  {
   "cell_type": "code",
   "execution_count": 17,
   "id": "df29471c-ffc9-4deb-b501-55786732ab00",
   "metadata": {},
   "outputs": [],
   "source": [
    "import numpy as np\n",
    "import pandas as pd\n",
    "import matplotlib.pyplot as plt\n",
    "import seaborn as sns"
   ]
  },
  {
   "cell_type": "code",
   "execution_count": 18,
   "id": "5a854b7a-2c45-4961-ad1c-ab82e04fd851",
   "metadata": {},
   "outputs": [],
   "source": [
    "\n",
    "\n",
    "# Preprocessing each data into same format\n",
    "\n",
    "data_2015 = pd.read_csv('./data/2015.csv')\n",
    "data_2015['Year'] = 2015\n",
    "\n",
    "data_2016 = pd.read_csv('./data/2016.csv')\n",
    "data_2016['Year'] = 2016\n",
    "\n",
    "data_2017 = pd.read_csv('./data/2017.csv')\n",
    "data_2017 = data_2017.rename(columns = {'Happiness.Rank' : 'Happiness Rank', 'Happiness.Score' : 'Happiness Score', \n",
    "                                        'Economy..GDP.per.Capita.' : 'Economy (GDP per Capita)', \n",
    "                                        'Health..Life.Expectancy.' : 'Health (Life Expectancy)', \n",
    "                                        'Trust..Government.Corruption.' : 'Trust (Government Corruption)'})\n",
    "data_2017['Year'] = 2017\n",
    "\n",
    "data_2018 = pd.read_csv('./data/2018.csv')\n",
    "data_2018 = data_2018.rename(columns = {'Overall rank' : 'Happiness Rank', 'Country or region' : 'Country', 'Score' : 'Happiness Score',\n",
    "                                      'GDP per capita' : 'Economy (GDP per Capita)', 'Social support' : 'Family',\n",
    "                                      'Healthy life expectancy' : 'Health (Life Expectancy)','Freedom to make life choices' : 'Freedom',\n",
    "                                      'Perceptions of corruption' : 'Trust (Government Corruption)'})\n",
    "data_2018['Year'] = 2018\n",
    "\n",
    "\n",
    "data_2019 = pd.read_csv('./data/2019.csv')\n",
    "data_2019 = data_2019.rename(columns = {'Overall rank':'Happiness Rank', 'Country or region' : 'Country', 'Score' : 'Happiness Score',\n",
    "                                      'GDP per capita' : 'Economy (GDP per Capita)', 'Social support' : 'Family',\n",
    "                                      'Healthy life expectancy' : 'Health (Life Expectancy)','Freedom to make life choices' : 'Freedom'\n",
    "                                     , 'Perceptions of corruption' : 'Trust (Government Corruption)'})\n",
    "data_2019['Year'] = 2019\n",
    "\n",
    "data_2020 = pd.read_csv('./data/2020.csv')\n",
    "data_2020['Happiness Rank'] =  range(1, len(data_2020.index)+1)\n",
    "data_2020 = data_2020.rename(columns = {'Country name' : 'Country', 'Ladder score' : 'Happiness Score', \n",
    "                                      'Logged GDP per capita' : 'Economy (GDP per Capita)', 'Social support' : 'Family', 'Healthy life expectancy' : 'Health (Life Expectancy)',\n",
    "                                      'Freedom to make life choices' : 'Freedom', 'Perceptions of corruption' : 'Trust (Government Corruption)'})\n",
    "data_2020['Year'] = 2020\n",
    "data_2020['Health (Life Expectancy)'] = data_2020['Health (Life Expectancy)']/100\n",
    "\n",
    "data_2021 = pd.read_csv('./data/2021.csv')\n",
    "data_2021['Happiness Rank'] =  range(1, len(data_2021.index)+1)\n",
    "data_2021 = data_2021.rename(columns = {'Country name' : 'Country', 'Ladder score' : 'Happiness Score', \n",
    "                                      'Logged GDP per capita' : 'Economy (GDP per Capita)', 'Social support' : 'Family', 'Healthy life expectancy' : 'Health (Life Expectancy)',\n",
    "                                      'Freedom to make life choices' : 'Freedom', 'Perceptions of corruption' : 'Trust (Government Corruption)'})\n",
    "data_2021['Year'] = 2021\n",
    "data_2021['Health (Life Expectancy)'] = data_2021['Health (Life Expectancy)']/100\n",
    "\n",
    "data_2022 = pd.read_csv('./data/2022.csv')\n",
    "data_2022 = data_2022.rename(columns = {'RANK' : 'Happiness Rank', 'Happiness score' : 'Happiness Score', 'Explained by: GDP per capita' : 'Economy (GDP per Capita)', 'Explained by: Social support' : 'Family', 'Explained by: Healthy life expectancy' : 'Health (Life Expectancy)',\n",
    "                                      'Explained by: Freedom to make life choices' : 'Freedom', 'Explained by: Perceptions of corruption' : 'Trust (Government Corruption)', 'Explained by: Generosity' : 'Generosity'})\n",
    "data_2022['Year'] = 2022\n",
    "\n",
    "data_2023 = pd.read_csv('./data/2023.csv')\n",
    "data_2023['Happiness Rank'] =  range(1, len(data_2023.index)+1)\n",
    "data_2023 = data_2023.rename(columns = {'Country name' : 'Country', 'Ladder score' : 'Happiness Score', \n",
    "                                      'Logged GDP per capita' : 'Economy (GDP per Capita)', 'Social support' : 'Family', 'Healthy life expectancy' : 'Health (Life Expectancy)',\n",
    "                                      'Freedom to make life choices' : 'Freedom', 'Perceptions of corruption' : 'Trust (Government Corruption)'})\n",
    "data_2023['Year'] = 2023\n",
    "data_2023['Health (Life Expectancy)'] = data_2023['Health (Life Expectancy)']/100\n",
    "\n",
    "\n",
    "# Store esch data from 2015 - 2023 into new DataFrame\n",
    "\n",
    "datasets = [data_2015, data_2016, data_2017, data_2018, data_2019, data_2020, data_2021, data_2022, data_2023]\n",
    "combined_data = pd.concat(datasets, ignore_index=True)\n",
    "\n",
    "columns = ['Year', 'Country', 'Happiness Rank', 'Happiness Score', 'Economy (GDP per Capita)',\n",
    "                   'Family', 'Health (Life Expectancy)', 'Freedom', 'Trust (Government Corruption)',\n",
    "                   'Generosity']\n",
    "filtered_data = combined_data[columns]\n",
    "data_rank = filtered_data\n"
   ]
  },
  {
   "cell_type": "code",
   "execution_count": 20,
   "id": "4dcf7c42-b24a-4549-9d36-89b857955cba",
   "metadata": {},
   "outputs": [],
   "source": [
    "data_rank.to_csv(\"data_rank.csv\", sep=\",\", index=False)"
   ]
  }
 ],
 "metadata": {
  "kernelspec": {
   "display_name": "Python 3 (ipykernel)",
   "language": "python",
   "name": "python3"
  },
  "language_info": {
   "codemirror_mode": {
    "name": "ipython",
    "version": 3
   },
   "file_extension": ".py",
   "mimetype": "text/x-python",
   "name": "python",
   "nbconvert_exporter": "python",
   "pygments_lexer": "ipython3",
   "version": "3.11.3"
  }
 },
 "nbformat": 4,
 "nbformat_minor": 5
}
